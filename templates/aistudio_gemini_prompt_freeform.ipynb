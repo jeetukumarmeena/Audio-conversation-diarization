{
  "cells": [
    {
      "cell_type": "markdown",
      "metadata": {
        "id": "Tce3stUlHN0L"
      },
      "source": [
        "##### Copyright 2023 Google LLC"
      ]
    },
    {
      "cell_type": "code",
      "execution_count": null,
      "metadata": {
        "cellView": "form",
        "id": "tuOe1ymfHZPu"
      },
      "outputs": [],
      "source": [
        "# @title Licensed under the Apache License, Version 2.0 (the \"License\");\n",
        "# you may not use this file except in compliance with the License.\n",
        "# You may obtain a copy of the License at\n",
        "#\n",
        "# https://www.apache.org/licenses/LICENSE-2.0\n",
        "#\n",
        "# Unless required by applicable law or agreed to in writing, software\n",
        "# distributed under the License is distributed on an \"AS IS\" BASIS,\n",
        "# WITHOUT WARRANTIES OR CONDITIONS OF ANY KIND, either express or implied.\n",
        "# See the License for the specific language governing permissions and\n",
        "# limitations under the License."
      ]
    },
    {
      "cell_type": "markdown",
      "metadata": {
        "id": "FKwyTRdwB8aW"
      },
      "source": [
        "## Setup"
      ]
    },
    {
      "cell_type": "markdown",
      "metadata": {
        "id": "rlE8UqxrDIez"
      },
      "source": [
        "### Install & import"
      ]
    },
    {
      "cell_type": "code",
      "execution_count": 1,
      "metadata": {
        "id": "RXInneX6xx7c"
      },
      "outputs": [],
      "source": [
        "!pip install -U -q google-generativeai"
      ]
    },
    {
      "cell_type": "code",
      "execution_count": 2,
      "metadata": {
        "id": "kWIuwKG2_oWE"
      },
      "outputs": [],
      "source": [
        "# Install the client library and import necessary modules.\n",
        "import google.generativeai as genai\n",
        "\n",
        "import base64\n",
        "import copy\n",
        "import hashlib\n",
        "import io\n",
        "import json\n",
        "import mimetypes\n",
        "import pathlib\n",
        "import pprint\n",
        "import requests\n",
        "\n",
        "\n",
        "import PIL.Image\n",
        "import IPython.display\n",
        "from IPython.display import Markdown"
      ]
    },
    {
      "cell_type": "markdown",
      "metadata": {
        "id": "qZsRPVv1ITbh"
      },
      "source": [
        "### Mount Google Drive"
      ]
    },
    {
      "cell_type": "code",
      "execution_count": 3,
      "metadata": {
        "id": "d9-t_OkGoLIP",
        "colab": {
          "base_uri": "https://localhost:8080/"
        },
        "outputId": "ea1d9017-02be-4063-b751-0e596915fca0"
      },
      "outputs": [
        {
          "output_type": "stream",
          "name": "stdout",
          "text": [
            "Mounted at /gdrive\n"
          ]
        }
      ],
      "source": [
        "from google.colab import drive\n",
        "\n",
        "drive.mount(\"/gdrive\")"
      ]
    },
    {
      "cell_type": "markdown",
      "metadata": {
        "id": "Fet3lFjdKHEM"
      },
      "source": [
        "## Set the API key"
      ]
    },
    {
      "cell_type": "markdown",
      "source": [
        "# New Section"
      ],
      "metadata": {
        "id": "5ia7mdhBvB9k"
      }
    },
    {
      "cell_type": "markdown",
      "metadata": {
        "id": "ZoRWILAtCzBE"
      },
      "source": [
        "Add your API_KEY to the secrets manager in the left panel \"🔑\"."
      ]
    },
    {
      "cell_type": "code",
      "execution_count": 4,
      "metadata": {
        "id": "LaLCwNlkCyQd"
      },
      "outputs": [],
      "source": [
        "from google.colab import userdata\n",
        "\n",
        "GOOGLE_API_KEY = userdata.get(\"GOOGLE_API_KEY\")"
      ]
    },
    {
      "cell_type": "code",
      "execution_count": 5,
      "metadata": {
        "id": "_SvYoR3WCeKr"
      },
      "outputs": [],
      "source": [
        "# Configure the client library by providing your API key.\n",
        "genai.configure(api_key=GOOGLE_API_KEY)"
      ]
    },
    {
      "cell_type": "markdown",
      "metadata": {
        "id": "weo-o73WDpdm"
      },
      "source": [
        "## Parse the arguments"
      ]
    },
    {
      "cell_type": "code",
      "execution_count": 6,
      "metadata": {
        "id": "uIog-0SyDuIF"
      },
      "outputs": [],
      "source": [
        "model = 'gemini-1.5-flash' # @param {isTemplate: true}\n",
        "contents_b64 = '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' # @param {isTemplate: true}\n",
        "generation_config_b64 = 'eyJ0ZW1wZXJhdHVyZSI6MSwidG9wX3AiOjAuOTUsInRvcF9rIjo2NCwibWF4X291dHB1dF90b2tlbnMiOjgxOTJ9' # @param {isTemplate: true}\n",
        "safety_settings_b64 = \"e30=\"  # @param {isTemplate: true}\n",
        "\n",
        "gais_contents = json.loads(base64.b64decode(contents_b64))\n",
        "\n",
        "generation_config = json.loads(base64.b64decode(generation_config_b64))\n",
        "safety_settings = json.loads(base64.b64decode(safety_settings_b64))\n",
        "\n",
        "stream = False"
      ]
    },
    {
      "cell_type": "code",
      "execution_count": 7,
      "metadata": {
        "id": "RkbnEEIFEHFi",
        "colab": {
          "base_uri": "https://localhost:8080/"
        },
        "outputId": "bcba7317-1574-4348-d6d5-aa7ca35b1a7d"
      },
      "outputs": [
        {
          "output_type": "execute_result",
          "data": {
            "text/plain": [
              "[{'role': 'user',\n",
              "  'parts': [{'file_data': {'mime_type': 'audio/mpeg',\n",
              "     'drive_id': '1ADe-glXxiFeRiZ6cXMBG-vT1AtrOP0TP'}},\n",
              "   {'text': 'Generate audio diarization, including transcriptions and speaker information for each transcription, for this interview. Organize the transcription by the time they happened.'}]},\n",
              " {'role': 'model',\n",
              "  'parts': [{'text': \"## Audio Diarization: \\\\n\\\\n**0:00-0:12**  Karen: Well, hello everyone. Helpfulness has always been at the heart of Google's mission and so since the outbreak of the COVID-19 pandemic, we wanted to share some of the ways that we've been helping. \\\\n\\\\n**0:12-0:35** Karen: We have launched more than 200 products and features and contributed more than a $billion in resources to help our users, our partners, everyone to get through this pandemic. I want to highlight a few of the areas we've been focused on before we broaden the conversation. You've probably heard the news about Google's collaboration with Apple. We announced this last April and it's a combined effort using Bluetooth technology to help government and health agencies slow the spread of the virus.\\\\n\\\\n**0:35-0:54** Karen: That partnership resulted in exposure notification apps that are used to alert you if you've been in contact with someone who's tested positive for COVID. These apps are available in more than 50 countries and the research is showing that it's helping to save lives. Over the past year, we've been working closely with the World Health Organization, the CDC and others to provide trusted, authoritative information for the public.\\\\n\\\\n**0:54-1:11** Karen: When you search on COVID-19, you'll see official information from these public health entities about symptoms, prevention, treatments and references like maps and graphs to orient you to the state of the pandemic. Last September, we released the COVID-19 Search Trends Symptoms dataset which includes search trends for more than 400 symptoms. \\\\n\\\\n**1:11-1:21** Karen: This data has been helping researchers and public health study the link between symptom related searches and the spread of COVID-19.\\\\n\\\\n**1:21-1:33** Karen: And finally, the Community Mobility reports use the same type of anonymized, aggregated insights we use in products like Google Maps and these reports help chart movement trends over time. We've made them available in 135 countries and 64 languages and they're helping researchers and public health to better understand and forecast the impact of the pandemic on a global stage. \\\\n\\\\n**1:33-1:44** Karen: We know your privacy is essential and our technology allows us to share trends and insights without sharing personal information. \\\\n\\\\n**1:44-1:56** Karen: This is just a bit of what we're doing across Google in response to the pandemic and there's plenty more that we'd like to share. So, I want to open up the conversation. Today, I've invited my colleagues and friends, Dr. Garth Graham and Rob Caliph to talk about our health initiatives in the pandemic that YouTube and another part of the Alphabet company, Verily, have been engaged in. They're two of my favorite people and I hope you enjoy hearing from them this today. \\\\n\\\\n**1:56-2:01** Karen: So, let's start with Garth. Um, what's happening over there with you all at YouTube? How are you getting accurate and up-to-date information to users?\\\\n\\\\n**2:01-2:12** Garth: Thank you, Karen. And, we really have come together across the enterprise to tackle the very serious issues with the pandemic. YouTube, as you know, has become one of the most important sources of information for the public. With 2 billion monthly users, it's really important to sort fact from fiction. \\\\n\\\\n**2:12-2:22** Garth: That's why when the pandemic happened, we moved quickly to update our policies so we could remove false content like claims that COVID is a hoax or things along those lines. In fact, we've removed more than 700,000 videos related to dangerous or misleading COVID-19 medical information. \\\\n\\\\n**2:22-2:35** Garth: We've also gone beyond that. We're partnering with trusted sources in the medical and public health community like the Harvard School of Public Health, the American Public Health Association, the National Academies of Medicine and Mayo Clinic to get the latest information out to users.\\\\n\\\\n**2:35-2:44** Garth: We're putting this authoritative content on COVID-19 information panels that you'll find on the YouTube homepage, on videos and in search results. \\\\n\\\\n**2:44-2:49** Karen: But, would you like to guess how many times these panels have been viewed? \\\\n\\\\n**2:49-2:56** Garth: Over 400 billion times so far. \\\\n\\\\n**2:56-3:01** Karen: That number is amazing every time I hear it. Garth, you have devoted so much of your career to creating parity in health and healthcare and among your many influential roles, you orchestrated the US government's very first national health disparities plan. \\\\n\\\\n**3:01-3:08** Karen: So, I want you to tell us how you're doing work at YouTube that will allow you to connect with audiences that are historically hard to reach, including communities of color. Maybe, you could start with an example of how you've been working with Dr. Fauci?\\\\n\\\\n**3:08-3:21** Garth: That's an area that um, you've pushed us a lot, you know, in terms of making sure we're reaching underserved communities and communities overall. And, we've actually managed to pull off a lot of unlikely peering of bedfellows, um, to use the terminology. And, one of those examples is, we paired Trevor Noah from the Daily Show who has a very popular audience, a very popular voice. And we paired him with Dr. Fauci as a source of science and it worked really well because Trevor asked the tough questions that his fans, his audience, were um, thinking and really got an idea of just how effective these types of interviews can be. The Trevor Noah Fauci interview actually got close to 12 million views. So, we know that these uh personalities um are trusted voices um for um for their communities and um it's really important for YouTube to connect these known personalities with leading health experts to reach people where they are at. And, I really consider this public health 101.\\\\n\\\\n**3:21-3:27** Karen: Yes, indeed. Thank you so much, Garth. That you and your team are doing really important work for the public's health. \\\\n\\\\n**3:27-3:35** Karen: Rob, I'd like to turn to you now so you can tell us about the work that Verily's project baseline has been doing during the pandemic. It's certainly in the beginning and even now, not easy for everyone to get a COVID test and you've partnered with some pretty big names to test millions of people. So, can you tell us more about that?\\\\n\\\\n**3:35-3:48** Rob: Thanks, Karen. It's been great working with you, Garth, and the whole Google Health team. This has really been a tremendous effort. Verily has been able to use the Baseline platform to test millions of people in community testing clinics. And, we've done this across 16 states in partnership with organizations like Rite Aid. \\\\n\\\\n**3:48-3:58** Rob: More than 100,000 people have opted into our COVID-19 research and we've been able to recruit participants for research on therapies and vaccines to address the critical issues about the pandemic. \\\\n\\\\n**3:58-4:06** Karen: Yeah, you know, Rob, you and the team at Verily are often three steps ahead of everybody else and um your testing programs are a good example of that because even as uh you have been developing individual testing, Verily has stepped up to develop reopening strategies. So, can you tell us how that evolved and how you plan to use it in the future?\\\\n\\\\n**4:06-4:19** Rob: Well, Karen, a great byproduct of our work in COVID-19 testing and screening is that we gain valuable insights and data were collected that we used to develop operations and predictive models to help employers and university presidents open their um, institutions.\\\\n\\\\n**4:19-4:29** Rob: Now, we're using those tools to work with these businesses and universities to see if we can help them uh in this next phase of the pandemic as they gradually reopen and deal with vaccination. This is called our Healthier at Work program which now has about 20 customers including several Fortune 500 employers and major universities. \\\\n\\\\n**4:29-4:39** Rob: We've made great progress with this first batch of businesses, their workforces and student forces, and we've got more planned launches coming this year. \\\\n\\\\n**4:39-4:46** Karen: It's great to hear, Rob. When you talk about COVID-19 testing, um, sometimes people hear high sensitivity and pooled testing as kind of some of the characteristics or methods that are important to use. Could you explain in layman's terms what those mean and how they're helping Verily to get more accurate tests and also how to cut costs? \\\\n\\\\n**4:46-4:59** Rob: Sure, let me break it down this way. Pooled testing is simply taking samples like nasal swabs or blood draws from dozens to hundreds of people and only running a single test instead of individual tests. We can then use mathematical algorithms to give us the ability to run many fewer assays and still decipher who is infected out of a group of people. \\\\n\\\\n**4:59-5:08** Rob: High-sensitivity tests are basically more accurate tests which help to reduce the number of false positives. Together, these approaches reduce costs and make better use of supplies. This has all been published in the med archives and is publicly available in blogs.\\\\n\\\\n**5:08-5:16** Karen: Fantastic. Thank you, Rob. And, congratulations to the team. You guys should be really proud.\\\\n\\\\n**5:16-5:26** Karen: So, I want to take a shift and talk about vaccines which is on the top of the mind for just about everybody. Um, Google recently announced an investment of 150 million dollars to promote education and equity in access to vaccines uh for everyone. And, we want to make it easier for people to find vaccine sites on Search and Maps and we're um making our own office spaces available um as vaccination sites across the country and across the world if that's useful.\\\\n\\\\n**5:26-5:36** Karen: So, Rob and Garth um in the topic of vaccines, I want to come back to the both of you so we can hear more about what your teams have been doing uh in regards to vaccinations for the US and the world. Garth, let me start with you. \\\\n\\\\n**5:36-5:52** Garth: Thanks, Karen. And, again, this is an area that you have pushed us on to make sure we're dealing appropriately with issues around equity. And, one of the biggest challenges with the vaccine is getting the word out to underserved communities. And, to do that we're partnering with public health agencies and community-based organizations, including HBCUs like Morehouse School of Medicine and organizations like the CDC Foundation.\\\\n\\\\n**5:52-6:03** Garth: These organizations are helping people and communities, particularly underserved communities, including people of color and people living in rural America, get access to the vaccine in the same way as everyone else and educating folks along the way. I think it's really important to recognize the team effort that you and others as part of the Google Health family have assembled here to really tackle some of these very important issues around equity and helping people find accurate and timely information on vaccines. \\\\n\\\\n**6:03-6:08** Garth: Karen, did you want to share more about that from your end? \\\\n\\\\n**6:08-6:15** Karen: I do. Thank you, Garth. Our team looked at Google Search trends and found that searches for vaccine near me have been increasing by five times since the beginning of the year. \\\\n\\\\n**6:15-6:28** Karen: So, to answer that need we're focusing on making it easier for people to find, when they're eligible to receive a vaccine. To do this, we've expanded information panels on Search to more than 40 countries and we're adding local distribution information in Search and Maps. And, we've just launched the Get The Facts initiative. Get The Facts is all about getting authoritative, evidence-based information out to the world via Google and YouTube.\\\\n\\\\n**6:28-6:37** Karen: And, I'm grateful to partners like VaccineFinder.org and Boston Children's Hospital, government agencies and retail pharmacies who are helping us get the authoritative piece right.\\\\n\\\\n**6:37-6:48** Karen: So, Rob, um Google's technology, specifically AI, is being used for some pretty important steps throughout the supply chain process for vaccines. Um, this includes everything from traffic and weather forecasting um, as well as ensuring safe delivery of the vaccine. Could you give us some more details on that kind of work? \\\\n\\\\n**6:48-6:58** Rob: You bet, Karen. We all know how important logistics are for getting more vaccines into arms. You could say we're obsessed with it now. Google Cloud has developed sophisticated supply chain systems to help states and counties deliver vaccines more efficiently. \\\\n\\\\n**6:58-7:07** Rob: When better supply logistics are coupled with the kind of information you and Garth have described, it's a big help uh in this overwhelming time. \\\\n\\\\n**7:07-7:16** Karen: Thanks, Rob. Um, so, listen, one of the joys of my career um is to work with brilliant people like the both of you and the many people on our teams, and I just want to say how grateful I am that we can contribute our skills, our experience um and other assets of our company to help bring an end to this pandemic.\\\\n\\\\n**7:16-7:35** Karen: I want to thank all of the essential workers on the front lines every day uh those in hospitals, in grocery stores, schools and research labs and many more. We're all in this together and we want you to know that you're on our minds as we do our work. \\\\n\"}]},\n",
              " {'role': 'user',\n",
              "  'parts': [{'text': 'what is audio conversation diarization'}]},\n",
              " {'role': 'model',\n",
              "  'parts': [{'text': 'Audio conversation diarization is like taking a long conversation and breaking it up into smaller pieces, each with its own speaker. It\\'s kind of like giving each person in the conversation their own \\\\\"turn\\\\\" to talk. \\\\n\\\\nHere\\'s a breakdown:\\\\n\\\\n1. **Recording:** You start with an audio recording of a conversation, like a podcast, meeting, or interview. \\\\n\\\\n2. **Segmentation:** The audio is then divided into small chunks, like sentences or even just a few words. \\\\n\\\\n3. **Speaker Identification:**  Each chunk is then analyzed to figure out who is speaking.  This might involve looking at the sound of their voice, the pitch, or even using advanced techniques like machine learning.\\\\n\\\\n4. **Diarization:** The chunks are then grouped together based on the speaker, creating a list of \\\\\"turns\\\\\" for each person in the conversation. \\\\n\\\\n**Why is it useful?**\\\\n\\\\n* **Transcription:**  It makes it easier to transcribe the conversation accurately, knowing who said what. \\\\n* **Analysis:** Researchers can analyze the conversation to understand how the speakers interact, their communication styles, and the flow of the conversation.\\\\n* **Accessibility:** For people with hearing impairments, it can be used to create subtitles that are correctly attributed to the right speakers.\\\\n\\\\nThink of it as a way to bring order to a messy conversation, making it easier to understand and work with. \\\\n'}]}]"
            ]
          },
          "metadata": {},
          "execution_count": 7
        }
      ],
      "source": [
        "gais_contents"
      ]
    },
    {
      "cell_type": "code",
      "execution_count": 8,
      "metadata": {
        "id": "ca3e641ee9d3",
        "colab": {
          "base_uri": "https://localhost:8080/"
        },
        "outputId": "71e7cb2e-0bba-4619-d239-11b4f7c20c7c"
      },
      "outputs": [
        {
          "output_type": "execute_result",
          "data": {
            "text/plain": [
              "{'temperature': 1, 'top_p': 0.95, 'top_k': 64, 'max_output_tokens': 8192}"
            ]
          },
          "metadata": {},
          "execution_count": 8
        }
      ],
      "source": [
        "generation_config"
      ]
    },
    {
      "cell_type": "code",
      "execution_count": 9,
      "metadata": {
        "id": "11ce12f5bbac",
        "colab": {
          "base_uri": "https://localhost:8080/"
        },
        "outputId": "ce7748ef-ec1d-4cc7-87f7-e9897c0b4f5e"
      },
      "outputs": [
        {
          "output_type": "execute_result",
          "data": {
            "text/plain": [
              "{}"
            ]
          },
          "metadata": {},
          "execution_count": 9
        }
      ],
      "source": [
        "safety_settings"
      ]
    },
    {
      "cell_type": "markdown",
      "metadata": {
        "id": "F91AeeGO1ncU"
      },
      "source": [
        "## [optional] Show the conversation\n",
        "\n",
        "This section displays the conversation received from Google AI Studio."
      ]
    },
    {
      "cell_type": "code",
      "execution_count": 10,
      "metadata": {
        "cellView": "form",
        "id": "yoL3p3KPylFW"
      },
      "outputs": [],
      "source": [
        "# @title `show_file` function\n",
        "def show_file(file_data):\n",
        "    mime_type = file_data[\"mime_type\"]\n",
        "\n",
        "    if drive_id := file_data.get(\"drive_id\", None):\n",
        "        path = next(\n",
        "            pathlib.Path(f\"/gdrive/.shortcut-targets-by-id/{drive_id}\").glob(\"*\")\n",
        "        )\n",
        "        name = path\n",
        "        # data = path.read_bytes()\n",
        "        kwargs = {\"filename\": path}\n",
        "    elif url := file_data.get(\"url\", None):\n",
        "        name = url\n",
        "        kwargs = {\"url\": url}\n",
        "        # response = requests.get(url)\n",
        "        # data = response.content\n",
        "    elif data := file_data.get(\"inline_data\", None):\n",
        "        name = None\n",
        "        kwargs = {\"data\": data}\n",
        "    elif name := file_data.get(\"filename\", None):\n",
        "        if not pathlib.Path(name).exists():\n",
        "            raise IOError(\n",
        "                f\"local file: `{name}` does not exist. You can upload files to \"\n",
        "                'Colab using the file manager (\"📁 Files\"in the left toolbar)'\n",
        "            )\n",
        "    else:\n",
        "        raise ValueError(\"Either `drive_id`, `url` or `inline_data` must be provided.\")\n",
        "\n",
        "        print(f\"File:\\n    name: {name}\\n    mime_type: {mime_type}\\n\")\n",
        "        return\n",
        "\n",
        "    format = mimetypes.guess_extension(mime_type).strip(\".\")\n",
        "    if mime_type.startswith(\"image/\"):\n",
        "        image = IPython.display.Image(**kwargs, width=256)\n",
        "        IPython.display.display(image)\n",
        "        print()\n",
        "        return\n",
        "\n",
        "    if mime_type.startswith(\"audio/\"):\n",
        "        if len(data) < 2**12:\n",
        "            audio = IPython.display.Audio(**kwargs)\n",
        "            IPython.display.display(audio)\n",
        "            print()\n",
        "            return\n",
        "\n",
        "    if mime_type.startswith(\"video/\"):\n",
        "        if len(data) < 2**12:\n",
        "            audio = IPython.display.Video(**kwargs, mimetype=mime_type)\n",
        "            IPython.display.display(audio)\n",
        "            print()\n",
        "            return\n",
        "\n",
        "    print(f\"File:\\n    name: {name}\\n    mime_type: {mime_type}\\n\")"
      ]
    },
    {
      "cell_type": "code",
      "execution_count": 12,
      "metadata": {
        "id": "o9D5UdhL8MTk"
      },
      "outputs": [],
      "source": [
        "def show_file(file_data):\n",
        "    mime_type = file_data[\"mime_type\"]\n",
        "    data = None  # Initialize data to None\n",
        "\n",
        "    if drive_id := file_data.get(\"drive_id\", None):\n",
        "        path = next(\n",
        "            pathlib.Path(f\"/gdrive/.shortcut-targets-by-id/{drive_id}\").glob(\"*\")\n",
        "        )\n",
        "        name = path\n",
        "        # data = path.read_bytes() #Consider reading the data here if needed\n",
        "        kwargs = {\"filename\": path}\n",
        "    elif url := file_data.get(\"url\", None):\n",
        "        name = url\n",
        "        kwargs = {\"url\": url}\n",
        "        # response = requests.get(url)\n",
        "        # data = response.content #Consider reading the data here if needed\n",
        "    elif data := file_data.get(\"inline_data\", None):\n",
        "        name = None\n",
        "        kwargs = {\"data\": data}\n",
        "    elif name := file_data.get(\"filename\", None):\n",
        "        if not pathlib.Path(name).exists():\n",
        "            raise IOError(\n",
        "                f\"local file: `{name}` does not exist. You can upload files to \"\n",
        "                'Colab using the file manager (\"📁 Files\"in the left toolbar)'\n",
        "            )\n",
        "    else:\n",
        "        raise ValueError(\"Either `drive_id`, `url` or `inline_data` must be provided.\")\n",
        "\n",
        "        print(f\"File:\\n    name: {name}\\n    mime_type: {mime_type}\\n\")\n",
        "        return\n",
        "\n",
        "    format = mimetypes.guess_extension(mime_type).strip(\".\")\n",
        "    if mime_type.startswith(\"image/\"):\n",
        "        image = IPython.display.Image(**kwargs, width=256)\n",
        "        IPython.display.display(image)\n",
        "        print()\n",
        "        return\n",
        "\n",
        "    if mime_type.startswith(\"audio/\"):\n",
        "        # Check if data is available before accessing its length\n",
        "        if data is not None and len(data) < 2**12:\n",
        "            audio = IPython.display.Audio(**kwargs)\n",
        "            IPython.display.display(audio)\n",
        "            print()\n",
        "            return\n",
        "\n",
        "    if mime_type.startswith(\"video/\"):\n",
        "        # Check if data is available before accessing its length\n",
        "        if data is not None and len(data) < 2**12:\n",
        "            audio = IPython.display.Video(**kwargs, mimetype=mime_type)\n",
        "            IPython.display.display(audio)\n",
        "            print()\n",
        "            return\n",
        "\n",
        "    print(f\"File:\\n    name: {name}\\n    mime_type: {mime_type}\\n\")"
      ]
    },
    {
      "cell_type": "markdown",
      "metadata": {
        "id": "0F6SKiuo88LQ"
      },
      "source": [
        "## Convert & upload files\n",
        "\n",
        "For each file, Google AI Studio either sent:\n",
        "- a Google Drive IDs\n",
        "- a URL, or\n",
        "- the raw bytes (`inline_data`).\n",
        "\n",
        "The API itself onlty understands two ways of sending files:\n",
        "\n",
        "- `inline_data` - where the bytes are placed inline in the request.\n",
        "- `file_data` - where the file is uploaded to the Files API, and you pass a reference to that file.\n",
        "\n",
        "This section goes through the `contents` from Google AI Studio, and uploads the file data, to the Files API, so Gemini can access it:"
      ]
    },
    {
      "cell_type": "code",
      "execution_count": null,
      "metadata": {
        "cellView": "form",
        "id": "_wJAs_ZfuwCq"
      },
      "outputs": [],
      "source": [
        "# @title `upload_file` function\n",
        "\n",
        "tempfiles = pathlib.Path(f\"tempfiles\")\n",
        "tempfiles.mkdir(parents=True, exist_ok=True)\n",
        "\n",
        "\n",
        "def upload_file_data(file_data):\n",
        "    mime_type = file_data[\"mime_type\"]\n",
        "    if drive_id := file_data.pop(\"drive_id\", None):\n",
        "        path = next(\n",
        "            pathlib.Path(f\"/gdrive/.shortcut-targets-by-id/{drive_id}\").glob(\"*\")\n",
        "        )\n",
        "        print(\"Uploading:\", str(path))\n",
        "        file_info = genai.upload_file(path=path, mime_type=mime_type)\n",
        "        file_data[\"file_uri\"] = file_info.uri\n",
        "        return\n",
        "\n",
        "    if url := file_data.pop(\"url\", None):\n",
        "        response = requests.get(url)\n",
        "        data = response.content\n",
        "        name = url.split(\"/\")[-1]\n",
        "        hash = hashlib.sha256(data).hexdigest()\n",
        "        path = tempfiles / hash\n",
        "        path.write_bytes(data)\n",
        "        print(\"Uploading:\", url)\n",
        "        file_info = genai.upload_file(path, display_name=name, mime_type=mime_type)\n",
        "        file_data[\"file_uri\"] = file_info.uri\n",
        "        return\n",
        "\n",
        "    if name := file_data.get(\"filename\", None):\n",
        "        if not pathlib.Path(name).exists():\n",
        "            raise IOError(\n",
        "                f\"local file: `{name}` does not exist. You can upload files \"\n",
        "                'to Colab using the file manager (\"📁 Files\"in the left '\n",
        "                \"toolbar)\"\n",
        "            )\n",
        "        file_info = genai.upload_file(path, display_name=name, mime_type=mime_type)\n",
        "        file_data[\"file_uri\"] = file_info.uri\n",
        "        return\n",
        "\n",
        "    if \"inline_data\" in file_data:\n",
        "        return\n",
        "\n",
        "    raise ValueError(\"Either `drive_id`, `url` or `inline_data` must be provided.\")"
      ]
    },
    {
      "cell_type": "code",
      "execution_count": 15,
      "metadata": {
        "id": "8TehY-utE3OR",
        "colab": {
          "base_uri": "https://localhost:8080/",
          "height": 566
        },
        "outputId": "0a942e4f-4db0-4856-cf07-02ac89a1199e"
      },
      "outputs": [
        {
          "output_type": "stream",
          "name": "stdout",
          "text": [
            "Requirement already satisfied: google-generativeai in /usr/local/lib/python3.10/dist-packages (0.8.3)\n",
            "Requirement already satisfied: google-ai-generativelanguage==0.6.10 in /usr/local/lib/python3.10/dist-packages (from google-generativeai) (0.6.10)\n",
            "Requirement already satisfied: google-api-core in /usr/local/lib/python3.10/dist-packages (from google-generativeai) (2.19.2)\n",
            "Requirement already satisfied: google-api-python-client in /usr/local/lib/python3.10/dist-packages (from google-generativeai) (2.137.0)\n",
            "Requirement already satisfied: google-auth>=2.15.0 in /usr/local/lib/python3.10/dist-packages (from google-generativeai) (2.27.0)\n",
            "Requirement already satisfied: protobuf in /usr/local/lib/python3.10/dist-packages (from google-generativeai) (3.20.3)\n",
            "Requirement already satisfied: pydantic in /usr/local/lib/python3.10/dist-packages (from google-generativeai) (2.9.2)\n",
            "Requirement already satisfied: tqdm in /usr/local/lib/python3.10/dist-packages (from google-generativeai) (4.66.5)\n",
            "Requirement already satisfied: typing-extensions in /usr/local/lib/python3.10/dist-packages (from google-generativeai) (4.12.2)\n",
            "Requirement already satisfied: proto-plus<2.0.0dev,>=1.22.3 in /usr/local/lib/python3.10/dist-packages (from google-ai-generativelanguage==0.6.10->google-generativeai) (1.24.0)\n",
            "Requirement already satisfied: googleapis-common-protos<2.0.dev0,>=1.56.2 in /usr/local/lib/python3.10/dist-packages (from google-api-core->google-generativeai) (1.65.0)\n",
            "Requirement already satisfied: requests<3.0.0.dev0,>=2.18.0 in /usr/local/lib/python3.10/dist-packages (from google-api-core->google-generativeai) (2.32.3)\n",
            "Requirement already satisfied: cachetools<6.0,>=2.0.0 in /usr/local/lib/python3.10/dist-packages (from google-auth>=2.15.0->google-generativeai) (5.5.0)\n",
            "Requirement already satisfied: pyasn1-modules>=0.2.1 in /usr/local/lib/python3.10/dist-packages (from google-auth>=2.15.0->google-generativeai) (0.4.1)\n",
            "Requirement already satisfied: rsa<5,>=3.1.4 in /usr/local/lib/python3.10/dist-packages (from google-auth>=2.15.0->google-generativeai) (4.9)\n",
            "Requirement already satisfied: httplib2<1.dev0,>=0.19.0 in /usr/local/lib/python3.10/dist-packages (from google-api-python-client->google-generativeai) (0.22.0)\n",
            "Requirement already satisfied: google-auth-httplib2<1.0.0,>=0.2.0 in /usr/local/lib/python3.10/dist-packages (from google-api-python-client->google-generativeai) (0.2.0)\n",
            "Requirement already satisfied: uritemplate<5,>=3.0.1 in /usr/local/lib/python3.10/dist-packages (from google-api-python-client->google-generativeai) (4.1.1)\n",
            "Requirement already satisfied: annotated-types>=0.6.0 in /usr/local/lib/python3.10/dist-packages (from pydantic->google-generativeai) (0.7.0)\n",
            "Requirement already satisfied: pydantic-core==2.23.4 in /usr/local/lib/python3.10/dist-packages (from pydantic->google-generativeai) (2.23.4)\n",
            "Requirement already satisfied: grpcio<2.0dev,>=1.33.2 in /usr/local/lib/python3.10/dist-packages (from google-api-core[grpc]!=2.0.*,!=2.1.*,!=2.10.*,!=2.2.*,!=2.3.*,!=2.4.*,!=2.5.*,!=2.6.*,!=2.7.*,!=2.8.*,!=2.9.*,<3.0.0dev,>=1.34.1->google-ai-generativelanguage==0.6.10->google-generativeai) (1.64.1)\n",
            "Requirement already satisfied: grpcio-status<2.0.dev0,>=1.33.2 in /usr/local/lib/python3.10/dist-packages (from google-api-core[grpc]!=2.0.*,!=2.1.*,!=2.10.*,!=2.2.*,!=2.3.*,!=2.4.*,!=2.5.*,!=2.6.*,!=2.7.*,!=2.8.*,!=2.9.*,<3.0.0dev,>=1.34.1->google-ai-generativelanguage==0.6.10->google-generativeai) (1.48.2)\n",
            "Requirement already satisfied: pyparsing!=3.0.0,!=3.0.1,!=3.0.2,!=3.0.3,<4,>=2.4.2 in /usr/local/lib/python3.10/dist-packages (from httplib2<1.dev0,>=0.19.0->google-api-python-client->google-generativeai) (3.2.0)\n",
            "Requirement already satisfied: pyasn1<0.7.0,>=0.4.6 in /usr/local/lib/python3.10/dist-packages (from pyasn1-modules>=0.2.1->google-auth>=2.15.0->google-generativeai) (0.6.1)\n",
            "Requirement already satisfied: charset-normalizer<4,>=2 in /usr/local/lib/python3.10/dist-packages (from requests<3.0.0.dev0,>=2.18.0->google-api-core->google-generativeai) (3.4.0)\n",
            "Requirement already satisfied: idna<4,>=2.5 in /usr/local/lib/python3.10/dist-packages (from requests<3.0.0.dev0,>=2.18.0->google-api-core->google-generativeai) (3.10)\n",
            "Requirement already satisfied: urllib3<3,>=1.21.1 in /usr/local/lib/python3.10/dist-packages (from requests<3.0.0.dev0,>=2.18.0->google-api-core->google-generativeai) (2.2.3)\n",
            "Requirement already satisfied: certifi>=2017.4.17 in /usr/local/lib/python3.10/dist-packages (from requests<3.0.0.dev0,>=2.18.0->google-api-core->google-generativeai) (2024.8.30)\n",
            "Uploading: /gdrive/.shortcut-targets-by-id/1ADe-glXxiFeRiZ6cXMBG-vT1AtrOP0TP/generative-ai_audio_audio_covid_google_response.mp3\n"
          ]
        }
      ],
      "source": [
        "# Import necessary modules\n",
        "import copy\n",
        "import pathlib\n",
        "import hashlib\n",
        "import requests\n",
        "!pip install google-generativeai # Install the genai library\n",
        "import google.generativeai as genai # Import the library using its correct name\n",
        "\n",
        "# Define upload_file_data (assuming it's in ipython-input-0-73f0db0e92c1)\n",
        "\n",
        "tempfiles = pathlib.Path(f\"tempfiles\")\n",
        "tempfiles.mkdir(parents=True, exist_ok=True)\n",
        "\n",
        "\n",
        "def upload_file_data(file_data):\n",
        "    mime_type = file_data[\"mime_type\"]\n",
        "    if drive_id := file_data.pop(\"drive_id\", None):\n",
        "        path = next(\n",
        "            pathlib.Path(f\"/gdrive/.shortcut-targets-by-id/{drive_id}\").glob(\"*\")\n",
        "        )\n",
        "        print(\"Uploading:\", str(path))\n",
        "        file_info = genai.upload_file(path=path, mime_type=mime_type)\n",
        "        file_data[\"file_uri\"] = file_info.uri\n",
        "        return\n",
        "\n",
        "    if url := file_data.pop(\"url\", None):\n",
        "        response = requests.get(url)\n",
        "        data = response.content\n",
        "        name = url.split(\"/\")[-1]\n",
        "        hash = hashlib.sha256(data).hexdigest()\n",
        "        path = tempfiles / hash\n",
        "        path.write_bytes(data)\n",
        "        print(\"Uploading:\", url)\n",
        "        file_info = genai.upload_file(path, display_name=name, mime_type=mime_type)\n",
        "        file_data[\"file_uri\"] = file_info.uri\n",
        "        return\n",
        "\n",
        "    if name := file_data.get(\"filename\", None):\n",
        "        if not pathlib.Path(name).exists():\n",
        "            raise IOError(\n",
        "                f\"local file: `{name}` does not exist. You can upload files \"\n",
        "                'to Colab using the file manager (\"📁 Files\"in the left '\n",
        "                \"toolbar)\"\n",
        "            )\n",
        "        file_info = genai.upload_file(path, display_name=name, mime_type=mime_type) # Assuming 'path' is defined before\n",
        "        file_data[\"file_uri\"] = file_info.uri\n",
        "        return\n",
        "\n",
        "    if \"inline_data\" in file_data:\n",
        "        return\n",
        "\n",
        "    raise ValueError(\"Either `drive_id`, `url` or `inline_data` must be provided.\")\n",
        "\n",
        "# Now you can use upload_file_data in other cells:\n",
        "\n",
        "contents = copy.deepcopy(gais_contents)\n",
        "\n",
        "for content in contents:\n",
        "    for n, part in enumerate(content[\"parts\"]):\n",
        "        if file_data := part.get(\"file_data\", None):\n",
        "            upload_file_data(file_data)"
      ]
    },
    {
      "cell_type": "markdown",
      "metadata": {
        "id": "EUFIM-r39cuc"
      },
      "source": [
        "Here is the coverted `Content`s:"
      ]
    },
    {
      "cell_type": "code",
      "execution_count": null,
      "metadata": {
        "id": "oJ-sPFRSxdQg"
      },
      "outputs": [],
      "source": [
        "contents"
      ]
    },
    {
      "cell_type": "markdown",
      "metadata": {
        "id": "E7zAD69vE92b"
      },
      "source": [
        "## Call `generate_content`"
      ]
    },
    {
      "cell_type": "code",
      "execution_count": 16,
      "metadata": {
        "id": "LB2LxPmAB95V"
      },
      "outputs": [],
      "source": [
        "# Call the model and print the response.\n",
        "gemini = genai.GenerativeModel(model_name=model)\n",
        "\n",
        "response = gemini.generate_content(\n",
        "    contents,\n",
        "    generation_config=generation_config,\n",
        "    safety_settings=safety_settings,\n",
        "    stream=False,\n",
        ")"
      ]
    },
    {
      "cell_type": "code",
      "execution_count": 17,
      "metadata": {
        "id": "Lm3RXwYuGtZK",
        "colab": {
          "base_uri": "https://localhost:8080/",
          "height": 46
        },
        "outputId": "1380fa35-e324-4872-be01-5fc919937750"
      },
      "outputs": [
        {
          "output_type": "display_data",
          "data": {
            "text/plain": [
              "<IPython.core.display.Markdown object>"
            ],
            "text/markdown": "Let me know if you want to know more about any of these steps! \n"
          },
          "metadata": {}
        }
      ],
      "source": [
        "if generation_config.get(\"candidate_count\", 1) == 1:\n",
        "    display(Markdown(response.text))"
      ]
    },
    {
      "cell_type": "code",
      "execution_count": 18,
      "metadata": {
        "id": "HjT4jtJc2aAk",
        "colab": {
          "base_uri": "https://localhost:8080/"
        },
        "outputId": "ac68ba36-6ebf-44de-896c-ec71239e029b"
      },
      "outputs": [
        {
          "output_type": "execute_result",
          "data": {
            "text/plain": [
              "[content {\n",
              "  parts {\n",
              "    text: \"Let me know if you want to know more about any of these steps! \\n\"\n",
              "  }\n",
              "  role: \"model\"\n",
              "}\n",
              "finish_reason: STOP\n",
              "index: 0\n",
              "safety_ratings {\n",
              "  category: HARM_CATEGORY_SEXUALLY_EXPLICIT\n",
              "  probability: NEGLIGIBLE\n",
              "}\n",
              "safety_ratings {\n",
              "  category: HARM_CATEGORY_HATE_SPEECH\n",
              "  probability: NEGLIGIBLE\n",
              "}\n",
              "safety_ratings {\n",
              "  category: HARM_CATEGORY_HARASSMENT\n",
              "  probability: NEGLIGIBLE\n",
              "}\n",
              "safety_ratings {\n",
              "  category: HARM_CATEGORY_DANGEROUS_CONTENT\n",
              "  probability: NEGLIGIBLE\n",
              "}\n",
              "]"
            ]
          },
          "metadata": {},
          "execution_count": 18
        }
      ],
      "source": [
        "response.candidates"
      ]
    },
    {
      "cell_type": "markdown",
      "metadata": {
        "id": "eQ1YBkS4MV8L"
      },
      "source": [
        "## Or Create a chat"
      ]
    },
    {
      "cell_type": "code",
      "execution_count": 19,
      "metadata": {
        "id": "aOd-4IHUqx4R"
      },
      "outputs": [],
      "source": [
        "gemini = genai.GenerativeModel(\n",
        "    model_name=model,\n",
        "    generation_config=generation_config,\n",
        "    safety_settings=safety_settings,\n",
        ")"
      ]
    },
    {
      "cell_type": "markdown",
      "metadata": {
        "id": "nOPCBs2grsIt"
      },
      "source": [
        "A `ChatSession`, should always end with the model's turn.\n",
        "\n",
        "So before creating the `chat` check whos turn was last.\n",
        "\n",
        "If the user was last, attach all but the last content as the `history` and send the last content with `send_message` to get the model's response.\n",
        "\n",
        "If the model was last, put the whole contents list in the history."
      ]
    },
    {
      "cell_type": "code",
      "execution_count": 20,
      "metadata": {
        "id": "aIbdDOeFqyiE"
      },
      "outputs": [],
      "source": [
        "model_turn = contents[-1].get(\"role\", None) == \"user\"\n",
        "\n",
        "if model_turn:\n",
        "    chat = gemini.start_chat(history=contents[:-1])\n",
        "\n",
        "    response = chat.send_message(contents[-1])\n",
        "\n",
        "    if generation_config.get(\"candidate_count\", 1) == 1:\n",
        "        display(Markdown(response.text))\n",
        "else:\n",
        "    chat = gemini.start_chat(history=contents)"
      ]
    },
    {
      "cell_type": "code",
      "execution_count": 21,
      "metadata": {
        "id": "5gWBb5UtOL5M"
      },
      "outputs": [],
      "source": [
        "if model_turn:\n",
        "    response.candidates"
      ]
    },
    {
      "cell_type": "markdown",
      "metadata": {
        "id": "gdz66HVvsnRc"
      },
      "source": [
        "After that use `send_message` to continue the conversation."
      ]
    },
    {
      "cell_type": "code",
      "execution_count": 22,
      "metadata": {
        "id": "nb87HPvBrx29",
        "colab": {
          "base_uri": "https://localhost:8080/",
          "height": 434
        },
        "outputId": "057f2a31-e62c-4b60-f60a-8a23fd0621f0"
      },
      "outputs": [
        {
          "output_type": "display_data",
          "data": {
            "text/plain": [
              "<IPython.core.display.Markdown object>"
            ],
            "text/markdown": "Data science is a fantastic field for career growth, but it's not a guaranteed success.  Here's a breakdown to help you decide:\n\n**Why Data Science is a Great Career Choice:**\n\n* **High Demand:**  Data scientists are in high demand across industries.  Every company is generating vast amounts of data, and they need experts to make sense of it.\n* **Good Pay:** Data science careers tend to be well-compensated, with starting salaries often above average and plenty of room for growth.\n* **Interesting Work:** You'll get to work on projects that have a real impact, solving problems and answering questions that drive business decisions.\n* **Constant Learning:** Data science is an evolving field, meaning you'll always have opportunities to learn new skills and technologies.\n\n**But, There are Challenges:**\n\n* **Competitive:**  The field is competitive, so you need to stand out with strong skills and experience.\n* **Ever-Changing Technology:** You'll need to stay up-to-date with the latest tools and techniques. \n* **Problem-Solving Focus:**  Data science requires a strong analytical mind and a passion for solving problems.\n* **Not Just a \"Coding\" Job:**  While coding skills are important, data science also involves communication, collaboration, and understanding business needs.\n\n**To Grow Your Career in Data Science:**\n\n1. **Develop Strong Skills:**  Focus on essential skills like programming (Python, R), statistics, machine learning, data visualization, and SQL. \n2. **Get Real-World Experience:**  Build a portfolio through projects, internships, or volunteering, showcasing your abilities.\n3. **Networking:** Connect with other data professionals to learn, share experiences, and explore opportunities.\n4. **Stay Updated:**  Continuously learn new technologies and keep up with industry trends.\n5. **Communication:**  Develop strong communication skills to explain complex technical concepts to non-technical audiences.\n\n**Ultimately, whether data science will grow your career depends on you.** Are you passionate about the field, willing to learn, and driven to excel? If so, data science offers a very promising path for a successful and fulfilling career. \n"
          },
          "metadata": {}
        }
      ],
      "source": [
        "response = chat.send_message(\"data science grow my carrer or not.\")\n",
        "display(Markdown(response.text))"
      ]
    }
  ],
  "metadata": {
    "colab": {
      "collapsed_sections": [
        "Tce3stUlHN0L"
      ],
      "name": "aistudio_gemini_prompt_freeform.ipynb",
      "provenance": []
    },
    "kernelspec": {
      "display_name": "Python 3",
      "name": "python3"
    }
  },
  "nbformat": 4,
  "nbformat_minor": 0
}